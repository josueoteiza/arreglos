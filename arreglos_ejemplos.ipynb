{
  "nbformat": 4,
  "nbformat_minor": 0,
  "metadata": {
    "colab": {
      "provenance": [],
      "authorship_tag": "ABX9TyOOitfWPHvoTIz54cxMSO6X",
      "include_colab_link": true
    },
    "kernelspec": {
      "name": "python3",
      "display_name": "Python 3"
    },
    "language_info": {
      "name": "python"
    }
  },
  "cells": [
    {
      "cell_type": "markdown",
      "metadata": {
        "id": "view-in-github",
        "colab_type": "text"
      },
      "source": [
        "<a href=\"https://colab.research.google.com/github/josueoteiza/arreglos/blob/main/arreglos_ejemplos.ipynb\" target=\"_parent\"><img src=\"https://colab.research.google.com/assets/colab-badge.svg\" alt=\"Open In Colab\"/></a>"
      ]
    },
    {
      "cell_type": "code",
      "execution_count": null,
      "metadata": {
        "colab": {
          "base_uri": "https://localhost:8080/"
        },
        "id": "lc05n09CshK_",
        "outputId": "12835c1c-82d7-4e74-9c0d-450de3c57789"
      },
      "outputs": [
        {
          "output_type": "stream",
          "name": "stdout",
          "text": [
            "El promedio más bajo es: 1\n",
            "[20, 15, 12, 11, 8, 4]\n",
            "20\n",
            "3.3333333333333335\n",
            "35\n",
            "5.833333333333333\n",
            "47\n",
            "7.833333333333333\n",
            "58\n",
            "9.666666666666666\n",
            "66\n",
            "11.0\n",
            "70\n",
            "11.666666666666666\n"
          ]
        }
      ],
      "source": [
        "A = [20, 15, 12, 11, 8, 4, 1]\n",
        "maxi = 20\n",
        "mini = maxi\n",
        "for i in A:\n",
        "  if i<mini:\n",
        "   mini=i\n",
        "print (\"El promedio más bajo es:\",mini)\n",
        "A.remove(mini)\n",
        "print(A)\n",
        "suma = 0\n",
        "for j in A:\n",
        "  suma+=j\n",
        "  print (suma)\n",
        "  print (suma/len(A))"
      ]
    },
    {
      "cell_type": "code",
      "source": [
        "##elemento aleatorio\n",
        "import random\n",
        "lenguajes = [\"Java\", \"Python\", \"C\", \"Go\", \"JavaScript\", \"PHP\"]\n",
        "\n",
        "aleatorio = random.choice(lenguajes)\n",
        "print(aleatorio)"
      ],
      "metadata": {
        "colab": {
          "base_uri": "https://localhost:8080/"
        },
        "id": "kull_vg6ye-j",
        "outputId": "4a24c490-c7a2-419c-fe3b-a4c22fd629da"
      },
      "execution_count": null,
      "outputs": [
        {
          "output_type": "stream",
          "name": "stdout",
          "text": [
            "Python\n"
          ]
        }
      ]
    },
    {
      "cell_type": "code",
      "source": [],
      "metadata": {
        "id": "spmVbR0FytAm"
      },
      "execution_count": null,
      "outputs": []
    },
    {
      "cell_type": "code",
      "source": [
        "##Dado el siguiente arreglo de números: [1, 5, 8, 3, 30, 9, 13] Imprimir en pantalla programáticamente los números impares mayores a 3\n",
        "\n",
        "A = [1, 5, 8, 3, 30, 9, 13]\n",
        "B = []\n",
        "for i in A:\n",
        "  if i>3 and i%2!=0:\n",
        "   B.append(i)# agregado elementos al final del arreglo\n",
        "print (B)"
      ],
      "metadata": {
        "colab": {
          "base_uri": "https://localhost:8080/"
        },
        "id": "_zSvUxYz0N7n",
        "outputId": "673c0398-8401-461e-a2e7-7b4253f7fab4"
      },
      "execution_count": null,
      "outputs": [
        {
          "output_type": "stream",
          "name": "stdout",
          "text": [
            "[5, 9, 13]\n"
          ]
        }
      ]
    },
    {
      "cell_type": "code",
      "source": [
        "import numpy # arreglos\n",
        "M= numpy.array([1,2,3,4,5,6,7])\n",
        "\n",
        "print(M[1:3])\n",
        "print(M[:3])\n",
        "print(M[3:])\n",
        "print(M[0:5:2])\n",
        "M.sum()\n",
        "#M.mean()\n",
        "#M.min()\n",
        "#M.max()\n"
      ],
      "metadata": {
        "colab": {
          "base_uri": "https://localhost:8080/"
        },
        "id": "2g2a-dfVgdmL",
        "outputId": "b76ff4f3-e075-4eaf-8e86-65dcfa01af80"
      },
      "execution_count": null,
      "outputs": [
        {
          "output_type": "stream",
          "name": "stdout",
          "text": [
            "[2 3]\n",
            "[1 2 3]\n",
            "[4 5 6 7]\n",
            "[1 3 5]\n"
          ]
        },
        {
          "output_type": "execute_result",
          "data": {
            "text/plain": [
              "28"
            ]
          },
          "metadata": {},
          "execution_count": 2
        }
      ]
    },
    {
      "cell_type": "code",
      "source": [
        "import numpy # arreglos\n",
        "A= numpy.array([1,2,3,4,5,6,7])\n",
        "B= numpy.array([2,4,6,8,10,12,14])\n",
        "\n",
        "A+B\n",
        "A*B\n",
        "A==B"
      ],
      "metadata": {
        "colab": {
          "base_uri": "https://localhost:8080/"
        },
        "id": "cZH44gZWsW2s",
        "outputId": "31639253-b5f3-4298-b1b6-eb22f3eaad40"
      },
      "execution_count": null,
      "outputs": [
        {
          "output_type": "execute_result",
          "data": {
            "text/plain": [
              "array([False, False, False, False, False, False, False])"
            ]
          },
          "metadata": {},
          "execution_count": 24
        }
      ]
    },
    {
      "cell_type": "code",
      "source": [
        "# MATRICES\n",
        "MATRIZ= numpy.array([[3,2,4,10],[15,11,7,3]])\n",
        "for f in range(1):\n",
        " for c in range(2):\n",
        "  print(MATRIZ[f][c])"
      ],
      "metadata": {
        "colab": {
          "base_uri": "https://localhost:8080/"
        },
        "id": "upyTGd6NtFfg",
        "outputId": "354162c5-c6f1-4e77-81d4-3fb156f93a57"
      },
      "execution_count": null,
      "outputs": [
        {
          "output_type": "stream",
          "name": "stdout",
          "text": [
            "3\n",
            "2\n"
          ]
        }
      ]
    },
    {
      "cell_type": "code",
      "source": [
        "# MATRICES\n",
        "MATRIZ= numpy.array([3,2,4,10])\n",
        "for f in range(4):\n",
        " #for c in range(3):\n",
        "  print(MATRIZ[f])"
      ],
      "metadata": {
        "colab": {
          "base_uri": "https://localhost:8080/"
        },
        "id": "fXH_2lHzbiLw",
        "outputId": "716f3fad-a8b8-4682-dd67-489247990e0c"
      },
      "execution_count": null,
      "outputs": [
        {
          "output_type": "stream",
          "name": "stdout",
          "text": [
            "3\n",
            "2\n",
            "4\n",
            "10\n"
          ]
        }
      ]
    },
    {
      "cell_type": "code",
      "source": [
        "import numpy # matrices\n",
        "lista= [[3,2,4,10],[15,11,7,3]]\n",
        "matriz=numpy.array(lista)\n",
        "matriz"
      ],
      "metadata": {
        "colab": {
          "base_uri": "https://localhost:8080/"
        },
        "id": "tVldH2CV-PtM",
        "outputId": "37ad0cce-556c-4997-a8c4-5518b48b8922"
      },
      "execution_count": null,
      "outputs": [
        {
          "output_type": "execute_result",
          "data": {
            "text/plain": [
              "array([[ 3,  2,  4, 10],\n",
              "       [15, 11,  7,  3]])"
            ]
          },
          "metadata": {},
          "execution_count": 30
        }
      ]
    },
    {
      "cell_type": "code",
      "source": [
        "# operaciones con matrices\n",
        "import numpy # matrices\n",
        "MATRIZ= numpy.array([[3,2,4,10],[15,11,7,3]])\n",
        "for f in range(2):\n",
        " for c in range(3):\n",
        "  print(MATRIZ[f][c])\n",
        "print(\"\")\n",
        "print(MATRIZ[1,2])"
      ],
      "metadata": {
        "colab": {
          "base_uri": "https://localhost:8080/"
        },
        "id": "lj50RqEy-62w",
        "outputId": "939ee7e1-1343-433c-a332-adb8b5c3cc9e"
      },
      "execution_count": null,
      "outputs": [
        {
          "output_type": "stream",
          "name": "stdout",
          "text": [
            "3\n",
            "2\n",
            "4\n",
            "15\n",
            "11\n",
            "7\n",
            "\n",
            "7\n"
          ]
        }
      ]
    },
    {
      "cell_type": "code",
      "source": [
        "# MATRICES\n",
        "MATRIZ= numpy.array([1,2,3,4])\n",
        "for f in range(2):\n",
        "  print(MATRIZ[f])"
      ],
      "metadata": {
        "colab": {
          "base_uri": "https://localhost:8080/"
        },
        "id": "VOj664Ut32lA",
        "outputId": "2bafbe84-e877-4a58-c73a-96c9332eafa0"
      },
      "execution_count": null,
      "outputs": [
        {
          "output_type": "stream",
          "name": "stdout",
          "text": [
            "1\n",
            "2\n"
          ]
        }
      ]
    }
  ]
}